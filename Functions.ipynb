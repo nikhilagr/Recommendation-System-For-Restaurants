{
 "cells": [
  {
   "cell_type": "code",
   "execution_count": 1,
   "metadata": {},
   "outputs": [],
   "source": [
    "import pandas as pd\n",
    "import numpy as np\n",
    "from nltk.tokenize import sent_tokenize, word_tokenize \n",
    "from string import punctuation\n",
    "from nltk.corpus import stopwords\n",
    "import nltk\n",
    "from textblob import TextBlob \n",
    "from geopy import distance"
   ]
  },
  {
   "cell_type": "code",
   "execution_count": 3,
   "metadata": {},
   "outputs": [],
   "source": [
    "df_business = pd.read_csv('Restuarants_ON.csv')"
   ]
  },
  {
   "cell_type": "code",
   "execution_count": 16,
   "metadata": {},
   "outputs": [
    {
     "name": "stdout",
     "output_type": "stream",
     "text": [
      "0    43.712946\n",
      "1    43.862484\n",
      "2    43.664125\n",
      "3    43.670885\n",
      "4    43.731316\n",
      "5    43.745928\n",
      "6    43.776719\n",
      "7    43.669116\n",
      "8    43.809939\n",
      "9    43.708002\n",
      "Name: latitude, dtype: float64\n",
      "0   -79.632763\n",
      "1   -79.306960\n",
      "2   -79.411886\n",
      "3   -79.392379\n",
      "4   -79.465133\n",
      "5   -79.324623\n",
      "6   -79.603614\n",
      "7   -79.426021\n",
      "8   -79.411215\n",
      "9   -79.375814\n",
      "Name: longitude, dtype: float64\n"
     ]
    }
   ],
   "source": [
    "A,B = df_business['latitude'][0:10],df_business['longitude'][0:10]\n",
    "print(A)\n",
    "print(B)"
   ]
  },
  {
   "cell_type": "code",
   "execution_count": 26,
   "metadata": {},
   "outputs": [],
   "source": [
    "def getBussiness(cuisine = 'Indian'):\n",
    "    df = df_business[df_business.categories.str.find(cuisine) > 0]\n",
    "    return df"
   ]
  },
  {
   "cell_type": "code",
   "execution_count": 20,
   "metadata": {},
   "outputs": [],
   "source": [
    "def getLocation(lat =43.712946 , long =-79.632763 , dis = 5):\n",
    "    curr_loc = (lat,long)\n",
    "    dist = []\n",
    "    for i in range(0, len(df_business)):\n",
    "        dist.append(distance.distance((df_business['latitude'][i],df_business['longitude'][i]),curr_loc).miles)\n",
    "    df_business['dist'] = dist\n",
    "    new_df = df_business[df_business.dist <= dis]\n",
    "    return new_df"
   ]
  },
  {
   "cell_type": "code",
   "execution_count": 21,
   "metadata": {},
   "outputs": [],
   "source": [
    "new_df = getLocation()"
   ]
  },
  {
   "cell_type": "code",
   "execution_count": 23,
   "metadata": {},
   "outputs": [
    {
     "name": "stdout",
     "output_type": "stream",
     "text": [
      "<class 'pandas.core.frame.DataFrame'>\n",
      "Int64Index: 512 entries, 0 to 14375\n",
      "Data columns (total 48 columns):\n",
      "business_id                              512 non-null object\n",
      "attributes.RestaurantsDelivery           409 non-null object\n",
      "attributes.Open24Hours                   0 non-null object\n",
      "attributes.CoatCheck                     22 non-null object\n",
      "attributes.DogsAllowed                   43 non-null object\n",
      "postal_code                              507 non-null object\n",
      "attributes.Smoking                       25 non-null object\n",
      "attributes.DietaryRestrictions           0 non-null object\n",
      "attributes.GoodForKids                   430 non-null object\n",
      "stars                                    512 non-null float64\n",
      "latitude                                 512 non-null float64\n",
      "attributes.Alcohol                       306 non-null object\n",
      "attributes.RestaurantsPriceRange2        407 non-null float64\n",
      "attributes.RestaurantsTableService       307 non-null object\n",
      "attributes.RestaurantsCounterService     0 non-null object\n",
      "attributes.Corkage                       0 non-null float64\n",
      "attributes.RestaurantsGoodForGroups      420 non-null object\n",
      "categories                               512 non-null object\n",
      "name                                     512 non-null object\n",
      "attributes.HappyHour                     33 non-null object\n",
      "attributes.WheelchairAccessible          93 non-null object\n",
      "attributes.Caters                        230 non-null object\n",
      "attributes.BYOBCorkage                   0 non-null object\n",
      "attributes.BYOB                          0 non-null float64\n",
      "is_open                                  512 non-null int64\n",
      "neighborhood                             212 non-null object\n",
      "attributes.Ambience                      346 non-null object\n",
      "longitude                                512 non-null float64\n",
      "attributes.BestNights                    15 non-null object\n",
      "review_count                             512 non-null int64\n",
      "attributes.BusinessAcceptsCreditCards    335 non-null object\n",
      "attributes.DriveThru                     41 non-null object\n",
      "attributes.HasTV                         353 non-null object\n",
      "attributes.Music                         24 non-null object\n",
      "hours                                    351 non-null object\n",
      "attributes.BusinessParking               349 non-null object\n",
      "attributes.WiFi                          308 non-null object\n",
      "attributes.RestaurantsAttire             387 non-null object\n",
      "hours.Sunday                             288 non-null object\n",
      "hours.Saturday                           332 non-null object\n",
      "hours.Friday                             351 non-null object\n",
      "attributes.RestaurantsReservations       411 non-null object\n",
      "attributes.RestaurantsTakeOut            440 non-null object\n",
      "attributes.BikeParking                   302 non-null object\n",
      "attributes.OutdoorSeating                357 non-null object\n",
      "city                                     512 non-null object\n",
      "state                                    512 non-null object\n",
      "dist                                     512 non-null float64\n",
      "dtypes: float64(7), int64(2), object(39)\n",
      "memory usage: 196.0+ KB\n"
     ]
    }
   ],
   "source": [
    "new_df.info()"
   ]
  },
  {
   "cell_type": "code",
   "execution_count": null,
   "metadata": {},
   "outputs": [],
   "source": []
  }
 ],
 "metadata": {
  "kernelspec": {
   "display_name": "Python 3",
   "language": "python",
   "name": "python3"
  },
  "language_info": {
   "codemirror_mode": {
    "name": "ipython",
    "version": 3
   },
   "file_extension": ".py",
   "mimetype": "text/x-python",
   "name": "python",
   "nbconvert_exporter": "python",
   "pygments_lexer": "ipython3",
   "version": "3.6.4"
  }
 },
 "nbformat": 4,
 "nbformat_minor": 2
}
