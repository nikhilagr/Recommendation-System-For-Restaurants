{
 "cells": [
  {
   "cell_type": "code",
   "execution_count": 173,
   "metadata": {},
   "outputs": [
    {
     "name": "stdout",
     "output_type": "stream",
     "text": [
      "[nltk_data] Downloading package vader_lexicon to\n",
      "[nltk_data]     /Users/nikhilagrawal/nltk_data...\n",
      "[nltk_data]   Package vader_lexicon is already up-to-date!\n",
      "[nltk_data] Downloading package punkt to\n",
      "[nltk_data]     /Users/nikhilagrawal/nltk_data...\n",
      "[nltk_data]   Package punkt is already up-to-date!\n"
     ]
    }
   ],
   "source": [
    "import pandas as pd\n",
    "import numpy as np\n",
    "from nltk.tokenize import sent_tokenize, word_tokenize \n",
    "from string import punctuation\n",
    "from nltk.corpus import stopwords\n",
    "import nltk\n",
    "import ssl\n",
    "from time import time\n",
    "from textblob import TextBlob\n",
    "# try:\n",
    "#     _create_unverified_https_context = ssl._create_unverified_context\n",
    "# except AttributeError:\n",
    "#     pass\n",
    "# else:\n",
    "#     ssl._create_default_https_context = _create_unverified_https_context\n",
    "nltk.download('vader_lexicon')\n",
    "nltk.download('punkt')\n",
    "from nltk.sentiment.vader import SentimentIntensityAnalyzer\n",
    "import re\n",
    "import numpy as np\n",
    "import pandas as pd\n",
    "from pprint import pprint\n",
    "from sklearn.linear_model import Ridge\n",
    "import seaborn as sns\n",
    "\n",
    "# Gensim\n",
    "import gensim\n",
    "import gensim.corpora as corpora\n",
    "from gensim.utils import simple_preprocess\n",
    "from gensim.models import CoherenceModel\n",
    "\n",
    "import matplotlib.pyplot as plt\n",
    "%matplotlib inline\n",
    "\n",
    "# Enable logging for gensim - optional\n",
    "import logging\n",
    "logging.basicConfig(format='%(asctime)s : %(levelname)s : %(message)s', level=logging.ERROR)\n",
    "\n",
    "import warnings\n",
    "warnings.filterwarnings(\"ignore\",category=DeprecationWarning)\n",
    "from sklearn.model_selection import train_test_split\n",
    "from sklearn import metrics\n",
    "from sklearn.metrics import accuracy_score,classification_report\n",
    "from datetime import datetime"
   ]
  },
  {
   "cell_type": "code",
   "execution_count": 174,
   "metadata": {},
   "outputs": [],
   "source": [
    "reviews_filename = 'final_english_reviews.csv'\n",
    "users_filename = 'Users_ON.csv'\n",
    "restaurants_filename = 'Restuarants_ON.csv'\n",
    "\n",
    "def prepareData(reviews_filename,users_filename,restaurants_filename,nrows):\n",
    "    reviewData = pd.read_csv(reviews_filename).sample(nrows,random_state = 42)\n",
    "    userData = pd.read_csv(users_filename)\n",
    "    restaurantData = pd.read_csv(restaurants_filename)\n",
    "    restaurantData = restaurantData.loc[restaurantData['business_id'].isin(reviewData['business_id'])]\n",
    "    userData = userData.loc[userData['user_id'].isin(reviewData['user_id'])]\n",
    "   \n",
    "    return reviewData,userData,restaurantData"
   ]
  },
  {
   "cell_type": "code",
   "execution_count": 175,
   "metadata": {},
   "outputs": [],
   "source": [
    "reviewData,userData,restaurantData = prepareData(reviews_filename,users_filename,restaurants_filename,30000)"
   ]
  },
  {
   "cell_type": "code",
   "execution_count": 176,
   "metadata": {},
   "outputs": [
    {
     "data": {
      "text/html": [
       "<div>\n",
       "<style scoped>\n",
       "    .dataframe tbody tr th:only-of-type {\n",
       "        vertical-align: middle;\n",
       "    }\n",
       "\n",
       "    .dataframe tbody tr th {\n",
       "        vertical-align: top;\n",
       "    }\n",
       "\n",
       "    .dataframe thead th {\n",
       "        text-align: right;\n",
       "    }\n",
       "</style>\n",
       "<table border=\"1\" class=\"dataframe\">\n",
       "  <thead>\n",
       "    <tr style=\"text-align: right;\">\n",
       "      <th></th>\n",
       "      <th>user_id</th>\n",
       "      <th>review_id</th>\n",
       "      <th>text</th>\n",
       "      <th>business_id</th>\n",
       "      <th>stars</th>\n",
       "      <th>date</th>\n",
       "    </tr>\n",
       "  </thead>\n",
       "  <tbody>\n",
       "    <tr>\n",
       "      <th>165612</th>\n",
       "      <td>4D6LLuJfao_eHGA6XZR-bA</td>\n",
       "      <td>H-XFlahPoAKFSeIyOOt-nw</td>\n",
       "      <td>Found myself a hidden gem thanks to my friend'...</td>\n",
       "      <td>CB8HrynUWR4Odnj-XTY-Ew</td>\n",
       "      <td>5</td>\n",
       "      <td>2015-11-30</td>\n",
       "    </tr>\n",
       "    <tr>\n",
       "      <th>129588</th>\n",
       "      <td>A-IkCqnYosZa49XD9qiSww</td>\n",
       "      <td>ah2pO_Q7sA99AvLF1xLeiw</td>\n",
       "      <td>Overpriced for what you're getting. There are ...</td>\n",
       "      <td>djqiu4L7P2sF1JY0DP7UHQ</td>\n",
       "      <td>2</td>\n",
       "      <td>2013-12-30</td>\n",
       "    </tr>\n",
       "    <tr>\n",
       "      <th>91326</th>\n",
       "      <td>2e5V6M4GNufEnbGJpVdCjw</td>\n",
       "      <td>RxgjLLnW8aHucq-M8omejQ</td>\n",
       "      <td>Tried the curry goat and oxtail  with rice and...</td>\n",
       "      <td>WGmeYEd6Kd3rHWVMO2IM6A</td>\n",
       "      <td>3</td>\n",
       "      <td>2014-07-13</td>\n",
       "    </tr>\n",
       "    <tr>\n",
       "      <th>25414</th>\n",
       "      <td>eKD0oCdjDxwn0IN6552oyQ</td>\n",
       "      <td>4JFNkGeK2Pyfkmz35pMUCw</td>\n",
       "      <td>I Absolutely Love this place! I spent four yea...</td>\n",
       "      <td>-av1lZI1JDY_RZN2eTMnWg</td>\n",
       "      <td>4</td>\n",
       "      <td>2013-10-01</td>\n",
       "    </tr>\n",
       "    <tr>\n",
       "      <th>9570</th>\n",
       "      <td>BRyMkJp6ge2dvoxWUUJYcw</td>\n",
       "      <td>ZIyb9AkK0wXeUuiABOimSw</td>\n",
       "      <td>Cora's is a great place to go if you desire a ...</td>\n",
       "      <td>cpR25rH3tdth2oiM9a_07g</td>\n",
       "      <td>4</td>\n",
       "      <td>2016-05-03</td>\n",
       "    </tr>\n",
       "  </tbody>\n",
       "</table>\n",
       "</div>"
      ],
      "text/plain": [
       "                       user_id               review_id  \\\n",
       "165612  4D6LLuJfao_eHGA6XZR-bA  H-XFlahPoAKFSeIyOOt-nw   \n",
       "129588  A-IkCqnYosZa49XD9qiSww  ah2pO_Q7sA99AvLF1xLeiw   \n",
       "91326   2e5V6M4GNufEnbGJpVdCjw  RxgjLLnW8aHucq-M8omejQ   \n",
       "25414   eKD0oCdjDxwn0IN6552oyQ  4JFNkGeK2Pyfkmz35pMUCw   \n",
       "9570    BRyMkJp6ge2dvoxWUUJYcw  ZIyb9AkK0wXeUuiABOimSw   \n",
       "\n",
       "                                                     text  \\\n",
       "165612  Found myself a hidden gem thanks to my friend'...   \n",
       "129588  Overpriced for what you're getting. There are ...   \n",
       "91326   Tried the curry goat and oxtail  with rice and...   \n",
       "25414   I Absolutely Love this place! I spent four yea...   \n",
       "9570    Cora's is a great place to go if you desire a ...   \n",
       "\n",
       "                   business_id  stars        date  \n",
       "165612  CB8HrynUWR4Odnj-XTY-Ew      5  2015-11-30  \n",
       "129588  djqiu4L7P2sF1JY0DP7UHQ      2  2013-12-30  \n",
       "91326   WGmeYEd6Kd3rHWVMO2IM6A      3  2014-07-13  \n",
       "25414   -av1lZI1JDY_RZN2eTMnWg      4  2013-10-01  \n",
       "9570    cpR25rH3tdth2oiM9a_07g      4  2016-05-03  "
      ]
     },
     "execution_count": 176,
     "metadata": {},
     "output_type": "execute_result"
    }
   ],
   "source": [
    "reviewData.head()"
   ]
  },
  {
   "cell_type": "code",
   "execution_count": 177,
   "metadata": {},
   "outputs": [
    {
     "data": {
      "text/plain": [
       "<matplotlib.axes._subplots.AxesSubplot at 0x1a37ef27b8>"
      ]
     },
     "execution_count": 177,
     "metadata": {},
     "output_type": "execute_result"
    },
    {
     "data": {
      "image/png": "[encoded data removed]",
      "text/plain": [
       "<matplotlib.figure.Figure at 0x1a37ee6630>"
      ]
     },
     "metadata": {},
     "output_type": "display_data"
    }
   ],
   "source": [
    "sns.set_style('darkgrid')\n",
    "sns.countplot(x='stars',data=reviewData)\n"
   ]
  },
  {
   "cell_type": "code",
   "execution_count": 178,
   "metadata": {},
   "outputs": [],
   "source": [
    "def getSentimentScore(reviewData):\n",
    "    sid = SentimentIntensityAnalyzer()\n",
    "    pos = []\n",
    "    neg = []\n",
    "    for text in reviewData['text']:\n",
    "        score = sid.polarity_scores(text)\n",
    "        pos.append(score['pos'])\n",
    "        neg.append(score['neg'])\n",
    "    reviewData['PostiveScore'] = pos\n",
    "    reviewData['NegativeScore'] = neg\n",
    "    return reviewData"
   ]
  },
  {
   "cell_type": "code",
   "execution_count": 179,
   "metadata": {},
   "outputs": [],
   "source": [
    "reviewData = getSentimentScore(reviewData)"
   ]
  },
  {
   "cell_type": "code",
   "execution_count": 180,
   "metadata": {},
   "outputs": [],
   "source": [
    "def filterLen(docs, minlen):\n",
    "    r\"\"\" filter out terms that are too short. \n",
    "    docs is a list of lists, each inner list is a document represented as a list of words\n",
    "    minlen is the minimum length of the word to keep\n",
    "    \"\"\"\n",
    "    return [ [t for t in d if len(t) >= minlen ] for d in docs ]\n",
    "\n",
    "def remove_stop_words(docs):\n",
    "    en_stops = stopwords.words('english')\n",
    "    en_stops.extend(['should','they','this','came','would','could'])\n",
    "    new_docs = []\n",
    "    for doc in docs:\n",
    "        new_word = []  \n",
    "        for word in doc:\n",
    "            if word not in en_stops:\n",
    "                new_word.append(word)\n",
    "        new_docs.append(new_word)\n",
    "            \n",
    "    return new_docs\n",
    "\n",
    "def filterInput(documents):\n",
    "    new_docs = []\n",
    "    for doc in documents:\n",
    "        new_word = []\n",
    "        for word in doc:\n",
    "            new_word.append(word.lower())\n",
    "            for char in word:\n",
    "                if(not char.isalpha()):\n",
    "                    new_word.remove(word.lower())\n",
    "                    break\n",
    "        new_docs.append(new_word)\n",
    "    \n",
    "    return new_docs\n",
    "\n",
    "import re\n",
    "def remove_punctuation(docs):\n",
    "    new_docs = []\n",
    "    for doc in docs:\n",
    "        new_words = []  \n",
    "        for word in doc:\n",
    "            new_word = re.sub(r'[^\\w\\s]', '', word)\n",
    "            if new_word != '':\n",
    "                new_words.append(new_word)\n",
    "        new_docs.append(new_words)\n",
    "            \n",
    "    return new_docs"
   ]
  },
  {
   "cell_type": "code",
   "execution_count": 181,
   "metadata": {},
   "outputs": [],
   "source": [
    "def preprocessText(reviewData):\n",
    "    docs =  list(reviewData['text'])\n",
    "    docs_tokens = [word_tokenize(doc) for doc in docs] \n",
    "    docs_filt = filterInput(docs_tokens)\n",
    "    docs_wo_punctuation = remove_punctuation(docs_filt)\n",
    "    preprocessed_docs = remove_stop_words(docs_wo_punctuation)\n",
    "    return preprocessed_docs"
   ]
  },
  {
   "cell_type": "code",
   "execution_count": 182,
   "metadata": {},
   "outputs": [],
   "source": [
    "pre = preprocessText(reviewData)"
   ]
  },
  {
   "cell_type": "code",
   "execution_count": 183,
   "metadata": {},
   "outputs": [],
   "source": [
    "def createDictForLDA(preprocessed_docs):\n",
    "    #Create Corpus\n",
    "    texts = preprocessed_docs\n",
    "    # Create Dictionary\n",
    "    id2word = corpora.Dictionary(preprocessed_docs)\n",
    "    # Term Document Frequency\n",
    "    corpus = [id2word.doc2bow(text) for text in texts]\n",
    "    return id2word,corpus"
   ]
  },
  {
   "cell_type": "code",
   "execution_count": 184,
   "metadata": {},
   "outputs": [],
   "source": [
    "id2word,corpus = createDictForLDA(pre)"
   ]
  },
  {
   "cell_type": "code",
   "execution_count": 185,
   "metadata": {},
   "outputs": [],
   "source": [
    "lda_model = gensim.models.LdaMulticore(workers=3,corpus=corpus,id2word=id2word, num_topics=10, random_state=100,passes=5)"
   ]
  },
  {
   "cell_type": "code",
   "execution_count": 186,
   "metadata": {},
   "outputs": [],
   "source": [
    "reviewData = getPredictedTopic(reviewData,lda_model,corpus)"
   ]
  },
  {
   "cell_type": "code",
   "execution_count": 187,
   "metadata": {},
   "outputs": [],
   "source": [
    "def createFeatureDF(reviewData):\n",
    "    features = pd.DataFrame()\n",
    "    features['PositiveScore'] = reviewData['PostiveScore']\n",
    "    features['NegativeScore'] = reviewData['NegativeScore']\n",
    "    return features\n",
    "\n",
    "def prepareFeatures(features):\n",
    "    \n",
    "    TP1 = []\n",
    "    TP2 = []\n",
    "    TP3 = []\n",
    "    TP4 = []\n",
    "    TP5 = []\n",
    "    TP6 = []\n",
    "    TP7 = []\n",
    "    TP8 = []\n",
    "    TP9 = []\n",
    "    TP10 = []\n",
    "    TN1 = []\n",
    "    TN2 = []\n",
    "    TN3 = []\n",
    "    TN4 = []\n",
    "    TN5 = []\n",
    "    TN6 = []\n",
    "    TN7 = []\n",
    "    TN8 = []\n",
    "    TN9 = []\n",
    "    TN10 = []\n",
    "    for j,row in reviewData.iterrows():\n",
    "        ps = row['PostiveScore']\n",
    "        ns = row['NegativeScore']\n",
    "        temp = lda_model.get_topic_terms(row['PredictedTopic'])\n",
    "        TP1.append(temp[0][1] * ps)\n",
    "        TP2.append(temp[1][1] * ps)\n",
    "        TP3.append(temp[2][1] * ps)\n",
    "        TP4.append(temp[3][1] * ps)\n",
    "        TP5.append(temp[4][1] * ps)\n",
    "        TP6.append(temp[5][1] * ps)\n",
    "        TP7.append(temp[6][1] * ps)\n",
    "        TP8.append(temp[7][1] * ps)\n",
    "        TP9.append(temp[8][1] * ps)\n",
    "        TP10.append(temp[9][1] * ps)\n",
    "        TN1.append(temp[0][1] * ns)\n",
    "        TN2.append(temp[1][1] * ns)\n",
    "        TN3.append(temp[2][1] * ns)\n",
    "        TN4.append(temp[3][1] * ns)\n",
    "        TN5.append(temp[4][1] * ns)\n",
    "        TN6.append(temp[5][1] * ns)\n",
    "        TN7.append(temp[6][1] * ns)\n",
    "        TN8.append(temp[7][1] * ns)\n",
    "        TN9.append(temp[8][1] * ns)\n",
    "        TN10.append(temp[9][1] * ns)\n",
    "    features['TP1'] = TP1\n",
    "    features['TP2'] = TP2\n",
    "    features['TP3'] = TP3\n",
    "    features['TP4'] = TP4\n",
    "    features['TP5'] = TP5\n",
    "    features['TP6'] = TP6\n",
    "    features['TP7'] = TP7\n",
    "    features['TP8'] = TP8\n",
    "    features['TP9'] = TP9\n",
    "    features['TP10'] = TP10\n",
    "    features['TN1'] = TN1\n",
    "    features['TN2'] = TN2\n",
    "    features['TN3'] = TN3\n",
    "    features['TN4'] = TN4\n",
    "    features['TN5'] = TN5\n",
    "    features['TN6'] = TN6\n",
    "    features['TN7'] = TN7\n",
    "    features['TN8'] = TN8\n",
    "    features['TN9'] = TN9\n",
    "    features['TN10'] = TN10"
   ]
  },
  {
   "cell_type": "code",
   "execution_count": 188,
   "metadata": {},
   "outputs": [
    {
     "data": {
      "text/html": [
       "<div>\n",
       "<style scoped>\n",
       "    .dataframe tbody tr th:only-of-type {\n",
       "        vertical-align: middle;\n",
       "    }\n",
       "\n",
       "    .dataframe tbody tr th {\n",
       "        vertical-align: top;\n",
       "    }\n",
       "\n",
       "    .dataframe thead th {\n",
       "        text-align: right;\n",
       "    }\n",
       "</style>\n",
       "<table border=\"1\" class=\"dataframe\">\n",
       "  <thead>\n",
       "    <tr style=\"text-align: right;\">\n",
       "      <th></th>\n",
       "      <th>PositiveScore</th>\n",
       "      <th>NegativeScore</th>\n",
       "      <th>TP1</th>\n",
       "      <th>TP2</th>\n",
       "      <th>TP3</th>\n",
       "      <th>TP4</th>\n",
       "      <th>TP5</th>\n",
       "      <th>TP6</th>\n",
       "      <th>TP7</th>\n",
       "      <th>TP8</th>\n",
       "      <th>...</th>\n",
       "      <th>TN1</th>\n",
       "      <th>TN2</th>\n",
       "      <th>TN3</th>\n",
       "      <th>TN4</th>\n",
       "      <th>TN5</th>\n",
       "      <th>TN6</th>\n",
       "      <th>TN7</th>\n",
       "      <th>TN8</th>\n",
       "      <th>TN9</th>\n",
       "      <th>TN10</th>\n",
       "    </tr>\n",
       "  </thead>\n",
       "  <tbody>\n",
       "    <tr>\n",
       "      <th>165612</th>\n",
       "      <td>0.195</td>\n",
       "      <td>0.008</td>\n",
       "      <td>0.003475</td>\n",
       "      <td>0.002704</td>\n",
       "      <td>0.002195</td>\n",
       "      <td>0.002120</td>\n",
       "      <td>0.001983</td>\n",
       "      <td>0.001558</td>\n",
       "      <td>0.001508</td>\n",
       "      <td>0.001462</td>\n",
       "      <td>...</td>\n",
       "      <td>0.000143</td>\n",
       "      <td>0.000111</td>\n",
       "      <td>0.000090</td>\n",
       "      <td>0.000087</td>\n",
       "      <td>0.000081</td>\n",
       "      <td>0.000064</td>\n",
       "      <td>0.000062</td>\n",
       "      <td>0.000060</td>\n",
       "      <td>0.000056</td>\n",
       "      <td>0.000055</td>\n",
       "    </tr>\n",
       "    <tr>\n",
       "      <th>129588</th>\n",
       "      <td>0.089</td>\n",
       "      <td>0.000</td>\n",
       "      <td>0.001911</td>\n",
       "      <td>0.001367</td>\n",
       "      <td>0.001109</td>\n",
       "      <td>0.000944</td>\n",
       "      <td>0.000886</td>\n",
       "      <td>0.000872</td>\n",
       "      <td>0.000687</td>\n",
       "      <td>0.000681</td>\n",
       "      <td>...</td>\n",
       "      <td>0.000000</td>\n",
       "      <td>0.000000</td>\n",
       "      <td>0.000000</td>\n",
       "      <td>0.000000</td>\n",
       "      <td>0.000000</td>\n",
       "      <td>0.000000</td>\n",
       "      <td>0.000000</td>\n",
       "      <td>0.000000</td>\n",
       "      <td>0.000000</td>\n",
       "      <td>0.000000</td>\n",
       "    </tr>\n",
       "    <tr>\n",
       "      <th>91326</th>\n",
       "      <td>0.106</td>\n",
       "      <td>0.000</td>\n",
       "      <td>0.001889</td>\n",
       "      <td>0.001470</td>\n",
       "      <td>0.001193</td>\n",
       "      <td>0.001152</td>\n",
       "      <td>0.001078</td>\n",
       "      <td>0.000847</td>\n",
       "      <td>0.000820</td>\n",
       "      <td>0.000795</td>\n",
       "      <td>...</td>\n",
       "      <td>0.000000</td>\n",
       "      <td>0.000000</td>\n",
       "      <td>0.000000</td>\n",
       "      <td>0.000000</td>\n",
       "      <td>0.000000</td>\n",
       "      <td>0.000000</td>\n",
       "      <td>0.000000</td>\n",
       "      <td>0.000000</td>\n",
       "      <td>0.000000</td>\n",
       "      <td>0.000000</td>\n",
       "    </tr>\n",
       "    <tr>\n",
       "      <th>25414</th>\n",
       "      <td>0.245</td>\n",
       "      <td>0.018</td>\n",
       "      <td>0.004808</td>\n",
       "      <td>0.004243</td>\n",
       "      <td>0.003586</td>\n",
       "      <td>0.002486</td>\n",
       "      <td>0.002240</td>\n",
       "      <td>0.002025</td>\n",
       "      <td>0.001910</td>\n",
       "      <td>0.001870</td>\n",
       "      <td>...</td>\n",
       "      <td>0.000353</td>\n",
       "      <td>0.000312</td>\n",
       "      <td>0.000263</td>\n",
       "      <td>0.000183</td>\n",
       "      <td>0.000165</td>\n",
       "      <td>0.000149</td>\n",
       "      <td>0.000140</td>\n",
       "      <td>0.000137</td>\n",
       "      <td>0.000132</td>\n",
       "      <td>0.000126</td>\n",
       "    </tr>\n",
       "    <tr>\n",
       "      <th>9570</th>\n",
       "      <td>0.236</td>\n",
       "      <td>0.000</td>\n",
       "      <td>0.004631</td>\n",
       "      <td>0.004087</td>\n",
       "      <td>0.003454</td>\n",
       "      <td>0.002395</td>\n",
       "      <td>0.002158</td>\n",
       "      <td>0.001951</td>\n",
       "      <td>0.001840</td>\n",
       "      <td>0.001802</td>\n",
       "      <td>...</td>\n",
       "      <td>0.000000</td>\n",
       "      <td>0.000000</td>\n",
       "      <td>0.000000</td>\n",
       "      <td>0.000000</td>\n",
       "      <td>0.000000</td>\n",
       "      <td>0.000000</td>\n",
       "      <td>0.000000</td>\n",
       "      <td>0.000000</td>\n",
       "      <td>0.000000</td>\n",
       "      <td>0.000000</td>\n",
       "    </tr>\n",
       "  </tbody>\n",
       "</table>\n",
       "<p>5 rows × 22 columns</p>\n",
       "</div>"
      ],
      "text/plain": [
       "        PositiveScore  NegativeScore       TP1       TP2       TP3       TP4  \\\n",
       "165612          0.195          0.008  0.003475  0.002704  0.002195  0.002120   \n",
       "129588          0.089          0.000  0.001911  0.001367  0.001109  0.000944   \n",
       "91326           0.106          0.000  0.001889  0.001470  0.001193  0.001152   \n",
       "25414           0.245          0.018  0.004808  0.004243  0.003586  0.002486   \n",
       "9570            0.236          0.000  0.004631  0.004087  0.003454  0.002395   \n",
       "\n",
       "             TP5       TP6       TP7       TP8    ...          TN1       TN2  \\\n",
       "165612  0.001983  0.001558  0.001508  0.001462    ...     0.000143  0.000111   \n",
       "129588  0.000886  0.000872  0.000687  0.000681    ...     0.000000  0.000000   \n",
       "91326   0.001078  0.000847  0.000820  0.000795    ...     0.000000  0.000000   \n",
       "25414   0.002240  0.002025  0.001910  0.001870    ...     0.000353  0.000312   \n",
       "9570    0.002158  0.001951  0.001840  0.001802    ...     0.000000  0.000000   \n",
       "\n",
       "             TN3       TN4       TN5       TN6       TN7       TN8       TN9  \\\n",
       "165612  0.000090  0.000087  0.000081  0.000064  0.000062  0.000060  0.000056   \n",
       "129588  0.000000  0.000000  0.000000  0.000000  0.000000  0.000000  0.000000   \n",
       "91326   0.000000  0.000000  0.000000  0.000000  0.000000  0.000000  0.000000   \n",
       "25414   0.000263  0.000183  0.000165  0.000149  0.000140  0.000137  0.000132   \n",
       "9570    0.000000  0.000000  0.000000  0.000000  0.000000  0.000000  0.000000   \n",
       "\n",
       "            TN10  \n",
       "165612  0.000055  \n",
       "129588  0.000000  \n",
       "91326   0.000000  \n",
       "25414   0.000126  \n",
       "9570    0.000000  \n",
       "\n",
       "[5 rows x 22 columns]"
      ]
     },
     "execution_count": 188,
     "metadata": {},
     "output_type": "execute_result"
    }
   ],
   "source": [
    "features = createFeatureDF(reviewData)\n",
    "prepareFeatures(features)\n",
    "features.head()"
   ]
  },
  {
   "cell_type": "code",
   "execution_count": 221,
   "metadata": {},
   "outputs": [
    {
     "name": "stdout",
     "output_type": "stream",
     "text": [
      "0.7989457958138914\n",
      "0.9822702524260729\n"
     ]
    }
   ],
   "source": [
    "X = features\n",
    "y = reviewData['stars']\n",
    "X_train , X_test,y_train,y_test = train_test_split(X,y,test_size=0.30,random_state=42)\n",
    "clf = Ridge(alpha=1.0)\n",
    "clf.fit(X_train, y_train) \n",
    "pred_rating = clf.predict(X_test)\n",
    "# print(metrics.mean_absolute_error(y_test,pred_rating))\n",
    "# print(metrics.mean_squared_error(y_test,pred_rating))"
   ]
  },
  {
   "cell_type": "code",
   "execution_count": 222,
   "metadata": {},
   "outputs": [
    {
     "name": "stdout",
     "output_type": "stream",
     "text": [
      "1.0879676825396827\n",
      "1.6533706334089189\n"
     ]
    }
   ],
   "source": [
    "from sklearn import linear_model\n",
    "clf = linear_model.Lasso(alpha = 0.1)\n",
    "clf.fit(X_train, y_train)\n",
    "pred_rating = clf.predict(X_test)\n",
    "print(metrics.mean_absolute_error(y_test,pred_rating))\n",
    "print(metrics.mean_squared_error(y_test,pred_rating))"
   ]
  },
  {
   "cell_type": "code",
   "execution_count": 223,
   "metadata": {},
   "outputs": [
    {
     "name": "stdout",
     "output_type": "stream",
     "text": [
      "0.7989457958138914\n",
      "0.9822702524260729\n"
     ]
    }
   ],
   "source": [
    "from sklearn.linear_model import LinearRegression\n",
    "clf = Ridge(alpha=1.0)\n",
    "clf.fit(X_train, y_train) \n",
    "pred_rating = clf.predict(X_test)\n",
    "print(metrics.mean_absolute_error(y_test,pred_rating))\n",
    "print(metrics.mean_squared_error(y_test,pred_rating))"
   ]
  },
  {
   "cell_type": "code",
   "execution_count": 192,
   "metadata": {},
   "outputs": [
    {
     "name": "stdout",
     "output_type": "stream",
     "text": [
      "0.7646819231159817\n",
      "0.9362886384015765\n"
     ]
    }
   ],
   "source": [
    "from sklearn.ensemble import RandomForestRegressor\n",
    "clf = RandomForestRegressor(max_features=2, min_samples_split=4, n_estimators=50, min_samples_leaf=2)\n",
    "clf.fit(X_train,y_train)\n",
    "pred_rating = clf.predict(X_test)\n",
    "print(metrics.mean_absolute_error(y_test,pred_rating))\n",
    "print(metrics.mean_squared_error(y_test,pred_rating))"
   ]
  },
  {
   "cell_type": "code",
   "execution_count": 214,
   "metadata": {},
   "outputs": [
    {
     "name": "stdout",
     "output_type": "stream",
     "text": [
      "0.7578326686924083\n",
      "0.9094207162723723\n"
     ]
    }
   ],
   "source": [
    "from sklearn.ensemble import ExtraTreesRegressor\n",
    "clf = ExtraTreesRegressor(max_features=2, min_samples_split=4, n_estimators=50, min_samples_leaf=2,random_state=42)\n",
    "clf.fit(X_train,y_train)\n",
    "pred_rating = clf.predict(X_test)\n",
    "print(metrics.mean_absolute_error(y_test,pred_rating))\n",
    "print(metrics.mean_squared_error(y_test,pred_rating))"
   ]
  },
  {
   "cell_type": "code",
   "execution_count": 194,
   "metadata": {},
   "outputs": [],
   "source": [
    "import matplotlib.pyplot as plt\n",
    "%matplotlib inline"
   ]
  },
  {
   "cell_type": "code",
   "execution_count": 195,
   "metadata": {},
   "outputs": [
    {
     "data": {
      "text/plain": [
       "Text(0,0.5,'Algorithms')"
      ]
     },
     "execution_count": 195,
     "metadata": {},
     "output_type": "execute_result"
    },
    {
     "data": {
      "image/png": "[encoded data removed]",
      "text/plain": [
       "<matplotlib.figure.Figure at 0x1a2af47828>"
      ]
     },
     "metadata": {},
     "output_type": "display_data"
    }
   ],
   "source": [
    "algos = ['1st','2nd','3rd','4th']\n",
    "accuracies = [0.9234,0.9544,0.9829,1.6174]\n",
    "plt.plot(algos,accuracies) \n",
    "plt.title('MSE For Different Regression Models')\n",
    "plt.xlabel('MSE')\n",
    "plt.ylabel('Algorithms')"
   ]
  },
  {
   "cell_type": "code",
   "execution_count": 199,
   "metadata": {},
   "outputs": [
    {
     "data": {
      "text/plain": [
       "Index(['PositiveScore', 'NegativeScore', 'TP1', 'TP2', 'TP3', 'TP4', 'TP5',\n",
       "       'TP6', 'TP7', 'TP8', 'TP9', 'TP10', 'TN1', 'TN2', 'TN3', 'TN4', 'TN5',\n",
       "       'TN6', 'TN7', 'TN8', 'TN9', 'TN10'],\n",
       "      dtype='object')"
      ]
     },
     "execution_count": 199,
     "metadata": {},
     "output_type": "execute_result"
    }
   ],
   "source": [
    "features.columns"
   ]
  },
  {
   "cell_type": "code",
   "execution_count": 196,
   "metadata": {},
   "outputs": [
    {
     "name": "stdout",
     "output_type": "stream",
     "text": [
      "0.7989773148683932\n",
      "0.9823212441242863\n"
     ]
    }
   ],
   "source": [
    "features_list = ['PositiveScore','NegativeScore']\n",
    "fea = features[features_list]\n",
    "X = fea\n",
    "y = reviewData['stars']\n",
    "X_train , X_test,y_train,y_test = train_test_split(X,y,test_size=0.30,random_state=42)\n",
    "clf = Ridge(alpha=1.0)\n",
    "clf.fit(X_train, y_train) \n",
    "pred_rating = clf.predict(X_test)\n",
    "print(metrics.mean_absolute_error(y_test,pred_rating))\n",
    "print(metrics.mean_squared_error(y_test,pred_rating))"
   ]
  },
  {
   "cell_type": "code",
   "execution_count": 201,
   "metadata": {},
   "outputs": [
    {
     "name": "stdout",
     "output_type": "stream",
     "text": [
      "1.0879676825396827\n",
      "1.6533706334089189\n"
     ]
    }
   ],
   "source": [
    "from sklearn import linear_model\n",
    "features_list = ['PositiveScore','NegativeScore']\n",
    "fea = features[features_list]\n",
    "X = fea\n",
    "y = reviewData['stars']\n",
    "X_train , X_test,y_train,y_test = train_test_split(X,y,test_size=0.30,random_state=42)\n",
    "clf = linear_model.Lasso(alpha = 0.1)\n",
    "clf.fit(X_train, y_train)\n",
    "pred_rating = clf.predict(X_test)\n",
    "print(metrics.mean_absolute_error(y_test,pred_rating))\n",
    "print(metrics.mean_squared_error(y_test,pred_rating))"
   ]
  },
  {
   "cell_type": "code",
   "execution_count": 203,
   "metadata": {},
   "outputs": [
    {
     "name": "stdout",
     "output_type": "stream",
     "text": [
      "0.7948910813236222\n",
      "1.018866276292691\n"
     ]
    }
   ],
   "source": [
    "\n",
    "features_list = ['PositiveScore','NegativeScore']\n",
    "fea = features[features_list]\n",
    "X = fea\n",
    "y = reviewData['stars']\n",
    "X_train , X_test,y_train,y_test = train_test_split(X,y,test_size=0.30,random_state=42)\n",
    "clf = RandomForestRegressor(max_features=2, min_samples_split=4, n_estimators=50, min_samples_leaf=2)\n",
    "clf.fit(X_train,y_train)\n",
    "pred_rating = clf.predict(X_test)\n",
    "print(metrics.mean_absolute_error(y_test,pred_rating))\n",
    "print(metrics.mean_squared_error(y_test,pred_rating))"
   ]
  },
  {
   "cell_type": "code",
   "execution_count": 206,
   "metadata": {},
   "outputs": [
    {
     "name": "stdout",
     "output_type": "stream",
     "text": [
      "0.7853874188663268\n",
      "0.989037266778888\n"
     ]
    }
   ],
   "source": [
    "features_list = ['PositiveScore','NegativeScore']\n",
    "fea = features[features_list]\n",
    "X = fea\n",
    "y = reviewData['stars']\n",
    "X_train , X_test,y_train,y_test = train_test_split(X,y,test_size=0.30,random_state=42)\n",
    "clf = ExtraTreesRegressor(max_features=2, min_samples_split=4, n_estimators=50, min_samples_leaf=2,random_state=42)\n",
    "clf.fit(X_train,y_train)\n",
    "pred_rating = clf.predict(X_test)\n",
    "print(metrics.mean_absolute_error(y_test,pred_rating))\n",
    "print(metrics.mean_squared_error(y_test,pred_rating))"
   ]
  },
  {
   "cell_type": "markdown",
   "metadata": {},
   "source": [
    "# Considering only LDA Word Distribution in topics"
   ]
  },
  {
   "cell_type": "code",
   "execution_count": 225,
   "metadata": {},
   "outputs": [
    {
     "name": "stdout",
     "output_type": "stream",
     "text": [
      "1.4113337188278152\n"
     ]
    }
   ],
   "source": [
    "features_list = ['TP1', 'TP2', 'TP3', 'TP4', 'TP5',\n",
    "       'TP6', 'TP7', 'TP8', 'TP9', 'TP10', 'TN1', 'TN2', 'TN3', 'TN4', 'TN5',\n",
    "       'TN6', 'TN7', 'TN8', 'TN9', 'TN10']\n",
    "fea = features[features_list]\n",
    "X = fea\n",
    "y = reviewData['stars']\n",
    "X_train , X_test,y_train,y_test = train_test_split(X,y,test_size=0.30,random_state=42)\n",
    "clf = Ridge(alpha=1.0)\n",
    "clf.fit(X_train, y_train) \n",
    "pred_rating = clf.predict(X_test)\n",
    "\n",
    "print(metrics.mean_squared_error(y_test,pred_rating))"
   ]
  },
  {
   "cell_type": "code",
   "execution_count": 226,
   "metadata": {},
   "outputs": [
    {
     "name": "stdout",
     "output_type": "stream",
     "text": [
      "1.6533706334089189\n"
     ]
    }
   ],
   "source": [
    "features_list = ['TP1', 'TP2', 'TP3', 'TP4', 'TP5',\n",
    "       'TP6', 'TP7', 'TP8', 'TP9', 'TP10', 'TN1', 'TN2', 'TN3', 'TN4', 'TN5',\n",
    "       'TN6', 'TN7', 'TN8', 'TN9', 'TN10']\n",
    "fea = features[features_list]\n",
    "X = fea\n",
    "y = reviewData['stars']\n",
    "X_train , X_test,y_train,y_test = train_test_split(X,y,test_size=0.30,random_state=42)\n",
    "clf = linear_model.Lasso(alpha = 0.1)\n",
    "clf.fit(X_train, y_train)\n",
    "pred_rating = clf.predict(X_test)\n",
    "\n",
    "print(metrics.mean_squared_error(y_test,pred_rating))"
   ]
  },
  {
   "cell_type": "code",
   "execution_count": 218,
   "metadata": {},
   "outputs": [
    {
     "name": "stdout",
     "output_type": "stream",
     "text": [
      "0.9412243537517659\n"
     ]
    }
   ],
   "source": [
    "features_list = ['TP1', 'TP2', 'TP3', 'TP4', 'TP5',\n",
    "       'TP6', 'TP7', 'TP8', 'TP9', 'TP10', 'TN1', 'TN2', 'TN3', 'TN4', 'TN5',\n",
    "       'TN6', 'TN7', 'TN8', 'TN9', 'TN10']\n",
    "fea = features[features_list]\n",
    "X = fea\n",
    "y = reviewData['stars']\n",
    "X_train , X_test,y_train,y_test = train_test_split(X,y,test_size=0.30,random_state=42)\n",
    "clf = RandomForestRegressor(max_features=2, min_samples_split=4, n_estimators=50, min_samples_leaf=2)\n",
    "clf.fit(X_train,y_train)\n",
    "pred_rating = clf.predict(X_test)\n",
    "\n",
    "print(metrics.mean_squared_error(y_test,pred_rating))"
   ]
  },
  {
   "cell_type": "code",
   "execution_count": 215,
   "metadata": {},
   "outputs": [
    {
     "name": "stdout",
     "output_type": "stream",
     "text": [
      "0.9094207162723723\n"
     ]
    }
   ],
   "source": [
    "features_list = ['TP1', 'TP2', 'TP3', 'TP4', 'TP5',\n",
    "       'TP6', 'TP7', 'TP8', 'TP9', 'TP10', 'TN1', 'TN2', 'TN3', 'TN4', 'TN5',\n",
    "       'TN6', 'TN7', 'TN8', 'TN9', 'TN10']\n",
    "fea = features[features_list]\n",
    "X = fea\n",
    "y = reviewData['stars']\n",
    "X_train , X_test,y_train,y_test = train_test_split(X,y,test_size=0.30,random_state=42)\n",
    "clf = ExtraTreesRegressor(max_features=2, min_samples_split=4, n_estimators=50, min_samples_leaf=2,random_state=42)\n",
    "clf.fit(X_train,y_train)\n",
    "pred_rating = clf.predict(X_test)\n",
    "\n",
    "print(metrics.mean_squared_error(y_test,pred_rating))"
   ]
  },
  {
   "cell_type": "code",
   "execution_count": 220,
   "metadata": {},
   "outputs": [
    {
     "data": {
      "text/plain": [
       "Text(0,0.5,'Algorithms')"
      ]
     },
     "execution_count": 220,
     "metadata": {},
     "output_type": "execute_result"
    },
    {
     "data": {
      "image/png": "[encoded data removed]",
      "text/plain": [
       "<matplotlib.figure.Figure at 0x1a2a971a20>"
      ]
     },
     "metadata": {},
     "output_type": "display_data"
    }
   ],
   "source": [
    "algos = ['1st','2nd','3rd','4th']\n",
    "accuracies = [0.9094,0.9412,1.411,1.6533]\n",
    "plt.plot(algos,accuracies) \n",
    "plt.title('MSE For Different Regression Models considering word distribution from topics')\n",
    "plt.xlabel('MSE')\n",
    "plt.ylabel('Algorithms')"
   ]
  },
  {
   "cell_type": "markdown",
   "metadata": {},
   "source": [
    "### 1st - ExtraTreesRegressor\n",
    "### 2nd - "
   ]
  },
  {
   "cell_type": "code",
   "execution_count": null,
   "metadata": {},
   "outputs": [],
   "source": []
  },
  {
   "cell_type": "code",
   "execution_count": null,
   "metadata": {},
   "outputs": [],
   "source": []
  },
  {
   "cell_type": "code",
   "execution_count": null,
   "metadata": {},
   "outputs": [],
   "source": []
  },
  {
   "cell_type": "code",
   "execution_count": null,
   "metadata": {},
   "outputs": [],
   "source": []
  },
  {
   "cell_type": "code",
   "execution_count": null,
   "metadata": {},
   "outputs": [],
   "source": []
  },
  {
   "cell_type": "code",
   "execution_count": null,
   "metadata": {},
   "outputs": [],
   "source": []
  },
  {
   "cell_type": "code",
   "execution_count": 146,
   "metadata": {},
   "outputs": [],
   "source": [
    "reviewData = predictRatings(features,reviewData)"
   ]
  },
  {
   "cell_type": "code",
   "execution_count": 58,
   "metadata": {},
   "outputs": [],
   "source": [
    "year  = []\n",
    "month = []\n",
    "for k,row in reviewData.iterrows():\n",
    "    dateobject = datetime.strptime(row['date'], '%Y-%m-%d')\n",
    "    year.append(dateobject.year)\n",
    "    month.append(dateobject.month)\n",
    "reviewData['year']= year\n",
    "reviewData['month']= month"
   ]
  },
  {
   "cell_type": "code",
   "execution_count": 59,
   "metadata": {},
   "outputs": [],
   "source": [
    "def getReviews(q,y):\n",
    "    if(q == 'quater1'):\n",
    "        month = [1,2,3]\n",
    "    elif(q == 'quater2'):\n",
    "        month = [4,5,6]\n",
    "    elif(q == 'quater3'):\n",
    "        month = [7,8,9]\n",
    "    elif(q == 'quater4'):\n",
    "        month = [10,11,12]\n",
    "\n",
    "    temp =  reviewData[(reviewData['year'] == y)]\n",
    "    return temp[temp['month'].isin(month)]"
   ]
  },
  {
   "cell_type": "code",
   "execution_count": 60,
   "metadata": {},
   "outputs": [],
   "source": [
    "new_df = getReviews('quater1', 2017)"
   ]
  },
  {
   "cell_type": "code",
   "execution_count": 61,
   "metadata": {},
   "outputs": [],
   "source": [
    "def getBusinessRatingList(quaterDF):\n",
    "    business_reviews = defaultdict()\n",
    "    lis = []\n",
    "    for i,row in new_df.iterrows():\n",
    "        a = row['business_id']\n",
    "        if a not in business_reviews.keys():\n",
    "            business_reviews[row['business_id']] = lis\n",
    "        else:\n",
    "            lis = business_reviews.get(row['business_id'])\n",
    "        lis.append(row['PredictedRating'])\n",
    "        business_reviews[row['business_id']] = lis\n",
    "        lis = []\n",
    "    # return dictionary key: b_id value: list of ratings\n",
    "    return business_reviews"
   ]
  },
  {
   "cell_type": "code",
   "execution_count": 62,
   "metadata": {},
   "outputs": [],
   "source": [
    "business_reviews = getBusinessRatingList(new_df)"
   ]
  },
  {
   "cell_type": "code",
   "execution_count": 63,
   "metadata": {},
   "outputs": [],
   "source": [
    "final_business_ratings = {}\n",
    "for val in business_reviews:\n",
    "    final_business_ratings[val] = np.mean(business_reviews[val])"
   ]
  },
  {
   "cell_type": "code",
   "execution_count": 65,
   "metadata": {},
   "outputs": [
    {
     "data": {
      "text/plain": [
       "467"
      ]
     },
     "execution_count": 65,
     "metadata": {},
     "output_type": "execute_result"
    }
   ],
   "source": [
    "len(final_business_ratings)"
   ]
  }
 ],
 "metadata": {
  "kernelspec": {
   "display_name": "Python 3",
   "language": "python",
   "name": "python3"
  },
  "language_info": {
   "codemirror_mode": {
    "name": "ipython",
    "version": 3
   },
   "file_extension": ".py",
   "mimetype": "text/x-python",
   "name": "python",
   "nbconvert_exporter": "python",
   "pygments_lexer": "ipython3",
   "version": "3.6.4"
  }
 },
 "nbformat": 4,
 "nbformat_minor": 2
}
