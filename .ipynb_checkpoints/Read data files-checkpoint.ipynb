{
 "cells": [
  {
   "cell_type": "code",
   "execution_count": null,
   "metadata": {},
   "outputs": [],
   "source": [
    "import pandas as pd\n",
    "import numpy as np\n",
    "from time import time\n",
    "from textblob import TextBlob\n",
    "import nltk\n",
    "from string import punctuation\n"
   ]
  },
  {
   "cell_type": "markdown",
   "metadata": {},
   "source": [
    "## Read from csv"
   ]
  },
  {
   "cell_type": "code",
   "execution_count": null,
   "metadata": {},
   "outputs": [],
   "source": [
    "# Read data\n",
    "df_review = pd.read_csv('yelp_academic_dataset_review.csv')\n",
    "df_business = pd.read_csv('yelp_academic_dataset_business.csv')\n",
    "df_user = pd.read_csv('yelp_academic_dataset_user.csv')"
   ]
  },
  {
   "cell_type": "markdown",
   "metadata": {},
   "source": [
    "### Business dataset"
   ]
  },
  {
   "cell_type": "code",
   "execution_count": null,
   "metadata": {},
   "outputs": [],
   "source": [
    "# From business dataset get business id's of those business whose category has keyword \"Restaurants\"\n",
    "restuarants_obj = filter(lambda k: 'Restaurants' in str(k), df_business[\"categories\"])\n",
    "restuarant = list(restuarants_obj)"
   ]
  },
  {
   "cell_type": "code",
   "execution_count": null,
   "metadata": {},
   "outputs": [],
   "source": [
    "# Create restaurant dataframe\n",
    "df_restaurant = df_business.loc[df_business['categories'].isin(restuarant)]"
   ]
  },
  {
   "cell_type": "code",
   "execution_count": null,
   "metadata": {},
   "outputs": [],
   "source": [
    "# Select features which we want\n",
    "features_restaurant = ['business_id','attributes.RestaurantsDelivery','attributes.Open24Hours',\n",
    "'attributes.CoatCheck',\n",
    "'attributes.DogsAllowed',\n",
    "'postal_code',\n",
    "'attributes.Smoking',\n",
    "'attributes.DietaryRestrictions',\n",
    "'attributes.GoodForKids',\n",
    "'stars',\n",
    "'latitude',\n",
    "'attributes.Alcohol',\n",
    "'attributes.RestaurantsPriceRange2',\n",
    "'attributes.RestaurantsTableService',\n",
    "'attributes.RestaurantsCounterService',\n",
    "'attributes.Corkage',\n",
    "'attributes.RestaurantsGoodForGroups',\n",
    "'categories',\n",
    "'name',\n",
    "'attributes.HappyHour',\n",
    "'attributes.WheelchairAccessible',\n",
    "'attributes.Caters',\n",
    "'attributes.BYOBCorkage',\n",
    "'attributes.BYOB',\n",
    "'is_open',\n",
    "'neighborhood',\n",
    "'attributes.Ambience',\n",
    "'longitude',\n",
    "'attributes.BestNights',\n",
    "'review_count',\n",
    "'attributes.BusinessAcceptsCreditCards',\n",
    "'attributes.DriveThru',\n",
    "'attributes.HasTV',\n",
    "'attributes.Music',\n",
    "'hours',\n",
    "'attributes.BusinessParking',\n",
    "'attributes.WiFi',\n",
    "'attributes.RestaurantsAttire',\n",
    "'hours.Sunday',\n",
    "'hours.Saturday',\n",
    "'hours.Friday',\n",
    "'attributes.RestaurantsReservations',\n",
    "'attributes.RestaurantsTakeOut',\n",
    "'attributes.BikeParking',\n",
    "'attributes.OutdoorSeating',\n",
    "'city',\n",
    "'state']"
   ]
  },
  {
   "cell_type": "code",
   "execution_count": null,
   "metadata": {},
   "outputs": [],
   "source": [
    "df_restaurant = df_restaurant[features_restaurant]"
   ]
  },
  {
   "cell_type": "code",
   "execution_count": null,
   "metadata": {},
   "outputs": [],
   "source": [
    "# Select restaurants from cannada's state Ontario\n",
    "df_restaurant = df_restaurant[df_restaurant.state == 'ON']"
   ]
  },
  {
   "cell_type": "markdown",
   "metadata": {},
   "source": [
    "## Review dataset"
   ]
  },
  {
   "cell_type": "code",
   "execution_count": null,
   "metadata": {},
   "outputs": [],
   "source": [
    "df_restaurant_review_temp = df_review.loc[df_review['business_id'].isin(df_restaurant['business_id'])]"
   ]
  },
  {
   "cell_type": "code",
   "execution_count": null,
   "metadata": {},
   "outputs": [],
   "source": [
    "features_reviews = ['user_id', 'review_id', 'text', 'business_id', 'stars', 'date']"
   ]
  },
  {
   "cell_type": "code",
   "execution_count": null,
   "metadata": {},
   "outputs": [],
   "source": [
    "df_restaurant_review = df_restaurant_review_temp[features_reviews]"
   ]
  },
  {
   "cell_type": "markdown",
   "metadata": {},
   "source": [
    "## User dataset"
   ]
  },
  {
   "cell_type": "code",
   "execution_count": null,
   "metadata": {},
   "outputs": [],
   "source": [
    "df_users_temp = df_user.loc[df_user['user_id'].isin(df_restaurant_review['user_id'])]"
   ]
  },
  {
   "cell_type": "code",
   "execution_count": null,
   "metadata": {},
   "outputs": [],
   "source": [
    "features_users = ['yelping_since','review_count','average_stars','user_id','name']"
   ]
  },
  {
   "cell_type": "code",
   "execution_count": null,
   "metadata": {},
   "outputs": [],
   "source": [
    "df_users = df_users_temp[features_users]"
   ]
  },
  {
   "cell_type": "code",
   "execution_count": null,
   "metadata": {},
   "outputs": [],
   "source": [
    "df_restaurant.to_csv('Restuarants_ON.csv')"
   ]
  },
  {
   "cell_type": "code",
   "execution_count": null,
   "metadata": {},
   "outputs": [],
   "source": [
    "df_users.to_csv('Users_ON.csv')"
   ]
  },
  {
   "cell_type": "code",
   "execution_count": null,
   "metadata": {},
   "outputs": [],
   "source": [
    "df_restaurant_review.to_csv('Reviews_ON.csv')"
   ]
  },
  {
   "cell_type": "code",
   "execution_count": null,
   "metadata": {},
   "outputs": [],
   "source": []
  }
 ],
 "metadata": {
  "kernelspec": {
   "display_name": "Python 3",
   "language": "python",
   "name": "python3"
  },
  "language_info": {
   "codemirror_mode": {
    "name": "ipython",
    "version": 3
   },
   "file_extension": ".py",
   "mimetype": "text/x-python",
   "name": "python",
   "nbconvert_exporter": "python",
   "pygments_lexer": "ipython3",
   "version": "3.6.4"
  }
 },
 "nbformat": 4,
 "nbformat_minor": 2
}
